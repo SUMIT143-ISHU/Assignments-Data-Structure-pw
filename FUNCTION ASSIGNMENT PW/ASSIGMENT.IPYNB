{
 "cells": [
  {
   "cell_type": "markdown",
   "metadata": {},
   "source": [
    " 1. Write a Python function that takes a list of numbers as input and returns the sum of all even numbers in\n",
    "the list.\n",
    "\n"
   ]
  },
  {
   "cell_type": "code",
   "execution_count": 14,
   "metadata": {},
   "outputs": [
    {
     "name": "stdout",
     "output_type": "stream",
     "text": [
      "Sum of all even numbers: 30\n"
     ]
    }
   ],
   "source": [
    "def sum_of_even_numbers(numbers):\n",
    "  \"\"\"Calculates the sum of all even numbers in a given list.\n",
    "\n",
    "  Args:\n",
    "    numbers: A list of numbers.\n",
    "\n",
    "  Returns:\n",
    "    The sum of all even numbers in the list.\n",
    "  \"\"\"\n",
    "\n",
    "  even_sum = 0\n",
    "  for num in numbers:\n",
    "    if num % 2 == 0:\n",
    "      even_sum += num\n",
    "  return even_sum\n",
    "\n",
    "# Example usage:\n",
    "number_list = [1, 2, 3, 4, 5, 6, 7, 8, 9, 10]\n",
    "result = sum_of_even_numbers(number_list)\n",
    "print(\"Sum of all even numbers:\", result)  # Output: 30"
   ]
  },
  {
   "cell_type": "markdown",
   "metadata": {},
   "source": [
    "2. Create a Python function that accepts a string and returns the reverse of that string."
   ]
  },
  {
   "cell_type": "code",
   "execution_count": 15,
   "metadata": {},
   "outputs": [
    {
     "name": "stdout",
     "output_type": "stream",
     "text": [
      "!dlroW ,olleH\n"
     ]
    }
   ],
   "source": [
    "def reverse_string(string):\n",
    "  \"\"\"Reverses a given string.\n",
    "\n",
    "  Args:\n",
    "    string: The input string to be reversed.\n",
    "\n",
    "  Returns:\n",
    "    The reversed string.\n",
    "  \"\"\"\n",
    "\n",
    "  return string[::-1]\n",
    "\n",
    "# Example usage:\n",
    "input_string = \"Hello, World!\"\n",
    "reversed_string = reverse_string(input_string)\n",
    "print(reversed_string)  # Output: \"!dlroW ,olleH\""
   ]
  },
  {
   "cell_type": "markdown",
   "metadata": {},
   "source": [
    "3. Implement a Python function that takes a list of integers and returns a new list containing the squares of\n",
    "each number."
   ]
  },
  {
   "cell_type": "code",
   "execution_count": 16,
   "metadata": {},
   "outputs": [
    {
     "name": "stdout",
     "output_type": "stream",
     "text": [
      "[1, 4, 9, 16, 25]\n"
     ]
    }
   ],
   "source": [
    "def square_numbers(numbers):\n",
    "  \"\"\"Squares each number in a given list.\n",
    "\n",
    "  Args:\n",
    "    numbers: A list of numbers.\n",
    "\n",
    "  Returns:\n",
    "    A new list containing the squares of each number.\n",
    "  \"\"\"\n",
    "\n",
    "  squared_numbers = []\n",
    "  for num in numbers:\n",
    "    squared_numbers.append(num ** 2)\n",
    "  return squared_numbers\n",
    "\n",
    "# Example usage:\n",
    "number_list = [1, 2, 3, 4, 5]\n",
    "result = square_numbers(number_list)\n",
    "print(result)  # Output: [1, 4, 9, 16, 25]"
   ]
  },
  {
   "cell_type": "markdown",
   "metadata": {},
   "source": [
    "4. Write a Python function that checks if a given number is prime or not from 1 to 200."
   ]
  },
  {
   "cell_type": "code",
   "execution_count": 17,
   "metadata": {},
   "outputs": [
    {
     "name": "stdout",
     "output_type": "stream",
     "text": [
      "2 is a prime number\n",
      "3 is a prime number\n",
      "5 is a prime number\n",
      "7 is a prime number\n",
      "11 is a prime number\n",
      "13 is a prime number\n",
      "17 is a prime number\n",
      "19 is a prime number\n",
      "23 is a prime number\n",
      "29 is a prime number\n",
      "31 is a prime number\n",
      "37 is a prime number\n",
      "41 is a prime number\n",
      "43 is a prime number\n",
      "47 is a prime number\n",
      "53 is a prime number\n",
      "59 is a prime number\n",
      "61 is a prime number\n",
      "67 is a prime number\n",
      "71 is a prime number\n",
      "73 is a prime number\n",
      "79 is a prime number\n",
      "83 is a prime number\n",
      "89 is a prime number\n",
      "97 is a prime number\n",
      "101 is a prime number\n",
      "103 is a prime number\n",
      "107 is a prime number\n",
      "109 is a prime number\n",
      "113 is a prime number\n",
      "127 is a prime number\n",
      "131 is a prime number\n",
      "137 is a prime number\n",
      "139 is a prime number\n",
      "149 is a prime number\n",
      "151 is a prime number\n",
      "157 is a prime number\n",
      "163 is a prime number\n",
      "167 is a prime number\n",
      "173 is a prime number\n",
      "179 is a prime number\n",
      "181 is a prime number\n",
      "191 is a prime number\n",
      "193 is a prime number\n",
      "197 is a prime number\n",
      "199 is a prime number\n"
     ]
    }
   ],
   "source": [
    "def is_prime(number):\n",
    "  \"\"\"Checks if a given number is prime.\n",
    "\n",
    "  Args:\n",
    "    number: The number to check.\n",
    "\n",
    "  Returns:\n",
    "    True if the number is prime, False otherwise.\n",
    "  \"\"\"\n",
    "\n",
    "  if number <= 1:\n",
    "    return False\n",
    "  if number <= 3:\n",
    "    return True\n",
    "  if number % 2 == 0 or number % 3 == 0:\n",
    "    return False\n",
    "\n",
    "  i = 5\n",
    "  while i * i <= number:\n",
    "    if number % i == 0 or number % (i + 2) == 0:\n",
    "      return False\n",
    "    i += 6\n",
    "\n",
    "  return True\n",
    "\n",
    "# Example usage:\n",
    "for num in range(1, 201):\n",
    "  if is_prime(num):\n",
    "    print(num, \"is a prime number\")"
   ]
  },
  {
   "cell_type": "markdown",
   "metadata": {},
   "source": [
    "5. Create an iterator class in Python that generates the Fibonacci sequence up to a specified number of\n",
    "terms."
   ]
  },
  {
   "cell_type": "code",
   "execution_count": 18,
   "metadata": {},
   "outputs": [
    {
     "name": "stdout",
     "output_type": "stream",
     "text": [
      "0\n",
      "-1\n",
      "-1\n",
      "-2\n",
      "-3\n",
      "-5\n",
      "-8\n",
      "-13\n",
      "-21\n",
      "-34\n"
     ]
    }
   ],
   "source": [
    "class FibonacciIterator:\n",
    "    def __init__(self, n):\n",
    "        self.n = n\n",
    "        self.a, self.b = 0, 1\n",
    "        self.count = 0\n",
    "\n",
    "    def __iter__(self):\n",
    "        return self\n",
    "\n",
    "    def __next__(self):\n",
    "        if self.count >= self.n:\n",
    "            raise StopIteration\n",
    "\n",
    "        self.count += 1\n",
    "        self.a, self.b = self.b, self.a + self.b\n",
    "        return self.a - self.b\n",
    "\n",
    "# Example usage:\n",
    "n = 10\n",
    "fib_iter = FibonacciIterator(n)\n",
    "for num in fib_iter:\n",
    "    print(num)"
   ]
  },
  {
   "cell_type": "markdown",
   "metadata": {},
   "source": [
    "6. Write a generator function in Python that yields the powers of 2 up to a given exponent"
   ]
  },
  {
   "cell_type": "code",
   "execution_count": 19,
   "metadata": {},
   "outputs": [
    {
     "name": "stdout",
     "output_type": "stream",
     "text": [
      "1\n",
      "2\n",
      "4\n",
      "8\n",
      "16\n",
      "32\n"
     ]
    }
   ],
   "source": [
    "def powers_of_two(exponent):\n",
    "  \"\"\"Generates powers of 2 up to a given exponent.\n",
    "\n",
    "  Args:\n",
    "    exponent: The maximum exponent.\n",
    "\n",
    "  Yields:\n",
    "    The powers of 2.\n",
    "  \"\"\"\n",
    "\n",
    "  power = 1\n",
    "  for i in range(exponent + 1):\n",
    "    yield power\n",
    "    power *= 2\n",
    "\n",
    "# Example usage:\n",
    "exponent = 5\n",
    "for power in powers_of_two(exponent):\n",
    "  print(power)"
   ]
  },
  {
   "cell_type": "markdown",
   "metadata": {},
   "source": [
    "7. Implement a generator function that reads a file line by line and yields each line as a string."
   ]
  },
  {
   "cell_type": "code",
   "execution_count": 20,
   "metadata": {},
   "outputs": [],
   "source": [
    "def read_file_lines(file_path):\n",
    "    try:\n",
    "        with open(file_path, 'r') as file:\n",
    "            for line in file:\n",
    "                yield line\n",
    "    except FileNotFoundError:\n",
    "        print(f\"File not found: {file_path}\")\n",
    "    except Exception as e:\n",
    "        print(f\"An error occurred: {e}\")\n"
   ]
  },
  {
   "cell_type": "markdown",
   "metadata": {},
   "source": [
    "8. Use a lambda function in Python to sort a list of tuples based on the second element of each tuple."
   ]
  },
  {
   "cell_type": "code",
   "execution_count": 21,
   "metadata": {},
   "outputs": [
    {
     "name": "stdout",
     "output_type": "stream",
     "text": [
      "[(4, 1), (3, 2), (1, 5), (2, 8)]\n"
     ]
    }
   ],
   "source": [
    "list_of_tuples = [(1, 5), (3, 2), (2, 8), (4, 1)]\n",
    "\n",
    "sorted_list = sorted(list_of_tuples, key=lambda x: x[1])\n",
    "\n",
    "print(sorted_list)  # Output: [(4, 1), (3, 2), (1, 5), (2, 8)]"
   ]
  },
  {
   "cell_type": "markdown",
   "metadata": {},
   "source": [
    "9. Write a Python program that uses `map()` to convert a list of temperatures from Celsius to Fahrenheit."
   ]
  },
  {
   "cell_type": "code",
   "execution_count": 22,
   "metadata": {},
   "outputs": [
    {
     "name": "stdout",
     "output_type": "stream",
     "text": [
      "[32.0, 50.0, 68.0, 86.0, 104.0]\n"
     ]
    }
   ],
   "source": [
    "def celsius_to_fahrenheit(celsius):\n",
    "  \"\"\"Converts Celsius temperature to Fahrenheit.\n",
    "\n",
    "  Args:\n",
    "    celsius: Temperature in Celsius.\n",
    "\n",
    "  Returns:\n",
    "    Temperature in Fahrenheit.\n",
    "  \"\"\"\n",
    "\n",
    "  return (celsius * 9/5) + 32\n",
    "\n",
    "temperatures_celsius = [0, 10, 20, 30, 40]\n",
    "temperatures_fahrenheit = list(map(celsius_to_fahrenheit, temperatures_celsius))\n",
    "\n",
    "print(temperatures_fahrenheit)"
   ]
  },
  {
   "cell_type": "markdown",
   "metadata": {},
   "source": [
    "10. Create a Python program that uses `filter()` to remove all the vowels from a given string.\n",
    "\n",
    "\n"
   ]
  },
  {
   "cell_type": "code",
   "execution_count": 23,
   "metadata": {},
   "outputs": [
    {
     "name": "stdout",
     "output_type": "stream",
     "text": [
      "Hll, Wrld!\n"
     ]
    }
   ],
   "source": [
    "def is_vowel(char):\n",
    "  \"\"\"Checks if a character is a vowel.\n",
    "\n",
    "  Args:\n",
    "    char: The character to check.\n",
    "\n",
    "  Returns:\n",
    "    True if the character is a vowel, False otherwise.\n",
    "  \"\"\"\n",
    "\n",
    "  vowels = 'aeiouAEIOU'\n",
    "  return char in vowels\n",
    "\n",
    "string = \"Hello, World!\"\n",
    "filtered_string = ''.join(filter(lambda char: not is_vowel(char), string))\n",
    "\n",
    "print(filtered_string)  # Output: Hll, Wrld!"
   ]
  },
  {
   "cell_type": "markdown",
   "metadata": {},
   "source": [
    "11) Imagine an accounting routine used in a book shop. It works on a list with sublists, which look like this:\n",
    "\n",
    "\n",
    "\n",
    "\n",
    "\n",
    "\n",
    "\n",
    "Write a Python program, which returns a list with 2-tuples. Each tuple consists of the order number and the\n",
    "product of the price per item and the quantity. The product should be increased by 10,- € if the value of the\n",
    "order is smaller than 100,00 €.\n",
    "\n",
    "Write a Python program using lambda and map."
   ]
  },
  {
   "cell_type": "code",
   "execution_count": 24,
   "metadata": {},
   "outputs": [
    {
     "name": "stdout",
     "output_type": "stream",
     "text": [
      "[(1, 30), (2, 35), (3, 25), (4, 70)]\n"
     ]
    }
   ],
   "source": [
    "def apply_discount(order):\n",
    "    order_total = order[1] * order[2]\n",
    "    return order[0], order_total + 10 if order_total < 100 else order_total\n",
    "\n",
    "orders = [\n",
    "    [1, 10, 2],\n",
    "    [2, 5, 5],\n",
    "    [3, 15, 1],\n",
    "    [4, 20, 3]\n",
    "]\n",
    "\n",
    "discounted_orders = list(map(apply_discount, orders))\n",
    "print(discounted_orders)"
   ]
  }
 ],
 "metadata": {
  "kernelspec": {
   "display_name": "Python 3",
   "language": "python",
   "name": "python3"
  },
  "language_info": {
   "codemirror_mode": {
    "name": "ipython",
    "version": 3
   },
   "file_extension": ".py",
   "mimetype": "text/x-python",
   "name": "python",
   "nbconvert_exporter": "python",
   "pygments_lexer": "ipython3",
   "version": "3.12.4"
  }
 },
 "nbformat": 4,
 "nbformat_minor": 2
}
