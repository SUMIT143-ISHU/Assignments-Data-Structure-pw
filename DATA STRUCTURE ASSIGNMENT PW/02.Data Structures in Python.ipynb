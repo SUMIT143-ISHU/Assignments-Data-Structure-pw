{
 "cells": [
  {
   "cell_type": "markdown",
   "metadata": {},
   "source": [
    "# Develop a code that prompts the user to input two sets of strings. Then, print the elements that are present in the first set but not in the second set"
   ]
  },
  {
   "cell_type": "code",
   "execution_count": null,
   "metadata": {},
   "outputs": [
    {
     "name": "stdout",
     "output_type": "stream",
     "text": [
      "Elements in Set 1 but not in Set 2: set()\n"
     ]
    }
   ],
   "source": [
    "# Get input sets from user\n",
    "set1 = set(input(\"Enter elements of Set 1 (space-separated): \"))\n",
    "set2 = set(input(\"Enter elements of Set 2 (space-separated): \"))\n",
    "\n",
    "# Print unique elements in Set 1\n",
    "unique_in_set1 = set1 - set2\n",
    "print(\"Elements in Set 1 but not in Set 2:\", unique_in_set1)"
   ]
  },
  {
   "cell_type": "markdown",
   "metadata": {},
   "source": [
    "# Create a code that takes a tuple and two integers as input. The function should return a new tuple containing elements from the original tuple within the specified range of indices&"
   ]
  },
  {
   "cell_type": "code",
   "execution_count": null,
   "metadata": {},
   "outputs": [],
   "source": [
    "def slice_tuple(t, start, end):\n",
    "    \"\"\"\n",
    "    Returns a new tuple containing elements from the original tuple\n",
    "    within the specified range of indices.\n",
    "\n",
    "    Args:\n",
    "        t (tuple): The original tuple.\n",
    "        start (int): The starting index (inclusive).\n",
    "        end (int): The ending index (exclusive).\n",
    "\n",
    "    Returns:\n",
    "        tuple: A new tuple containing elements from the original tuple.\n",
    "    \"\"\"\n",
    "    return t[start:end]\n"
   ]
  },
  {
   "cell_type": "markdown",
   "metadata": {},
   "source": [
    "# & Write a code that prompts the user to input two sets of characters. Then, print the union of these two sets"
   ]
  },
  {
   "cell_type": "code",
   "execution_count": 1,
   "metadata": {},
   "outputs": [],
   "source": [
    "# Get user input for two sets of characters\n",
    "set1 = input(\"Enter the first set of characters (space-separated): \")\n",
    "set2 = input(\"Enter the second set of characters (space-separated): \")\n",
    "\n",
    "# Convert input strings to sets\n",
    "set1 = set(set1)\n",
    "set2 = set(set2)\n",
    "\n",
    "# Print the union of the two sets\n"
   ]
  },
  {
   "cell_type": "markdown",
   "metadata": {},
   "source": [
    "# Develop a code that takes a tuple of integers as input. The function should return the maximum and minimum values from the tuple using tuple unpacking"
   ]
  },
  {
   "cell_type": "code",
   "execution_count": 1,
   "metadata": {},
   "outputs": [
    {
     "name": "stdout",
     "output_type": "stream",
     "text": [
      "Maximum value: 5\n",
      "Minimum value: 7\n"
     ]
    }
   ],
   "source": [
    "def max_min_values(tup):\n",
    "    \"\"\"Return the maximum and minimum values from a tuple of integers.\"\"\"\n",
    "    max_val, *_, min_val = tup\n",
    "    return max_val, min_val\n",
    "\n",
    "# Example usage:\n",
    "numbers = (5, 2, 9, 1, 7)\n",
    "max_val, min_val = max_min_values(numbers)\n",
    "print(f\"Maximum value: {max_val}\")\n",
    "print(f\"Minimum value: {min_val}\")\n"
   ]
  },
  {
   "cell_type": "markdown",
   "metadata": {},
   "source": []
  }
 ],
 "metadata": {
  "kernelspec": {
   "display_name": "Python 3",
   "language": "python",
   "name": "python3"
  },
  "language_info": {
   "codemirror_mode": {
    "name": "ipython",
    "version": 3
   },
   "file_extension": ".py",
   "mimetype": "text/x-python",
   "name": "python",
   "nbconvert_exporter": "python",
   "pygments_lexer": "ipython3",
   "version": "3.12.4"
  }
 },
 "nbformat": 4,
 "nbformat_minor": 2
}
