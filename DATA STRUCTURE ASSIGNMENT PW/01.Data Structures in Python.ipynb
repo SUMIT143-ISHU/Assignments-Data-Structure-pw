{
 "cells": [
  {
   "cell_type": "markdown",
   "metadata": {},
   "source": [
    "# Write a code to reverse a string\n"
   ]
  },
  {
   "cell_type": "code",
   "execution_count": 1,
   "metadata": {},
   "outputs": [
    {
     "name": "stdout",
     "output_type": "stream",
     "text": [
      "skeeGrofskeeG\n"
     ]
    }
   ],
   "source": [
    "s = \"GeeksforGeeks\"\n",
    "rev = s[::-1]\n",
    "print(rev)"
   ]
  },
  {
   "cell_type": "markdown",
   "metadata": {},
   "source": [
    "# 2 Write a code to count the number of vowels in a string"
   ]
  },
  {
   "cell_type": "code",
   "execution_count": 2,
   "metadata": {},
   "outputs": [
    {
     "name": "stdout",
     "output_type": "stream",
     "text": [
      "5\n"
     ]
    }
   ],
   "source": [
    "string = \"GeekforGeeks!\"\n",
    "vowels = \"aeiouAEIOU\"\n",
    "\n",
    "count = sum(string.count(vowel) for vowel in vowels)\n",
    "print(count)\n"
   ]
  },
  {
   "cell_type": "markdown",
   "metadata": {},
   "source": [
    "# Write a code to check if a given string is a palindrome or not"
   ]
  },
  {
   "cell_type": "code",
   "execution_count": 5,
   "metadata": {},
   "outputs": [
    {
     "name": "stdout",
     "output_type": "stream",
     "text": [
      "Yes\n"
     ]
    }
   ],
   "source": [
    "# function which return reverse of a string\n",
    "\n",
    "def isPalindrome(s):\n",
    "    return s == s[::-1]\n",
    "\n",
    "\n",
    "# Driver code\n",
    "s = \"malayalam\"\n",
    "ans = isPalindrome(s)\n",
    "\n",
    "if ans:\n",
    "    print(\"Yes\")\n",
    "else:\n",
    "    print(\"No\")\n"
   ]
  },
  {
   "cell_type": "markdown",
   "metadata": {},
   "source": [
    "# Write a code to check if two given strings are anagrams of each other"
   ]
  },
  {
   "cell_type": "code",
   "execution_count": 7,
   "metadata": {},
   "outputs": [
    {
     "name": "stdout",
     "output_type": "stream",
     "text": [
      "true\n"
     ]
    }
   ],
   "source": [
    "# Python Code to check if two Strings are anagram of \n",
    "# each other using sorting\n",
    "\n",
    "def areAnagrams(s1, s2):\n",
    "    \n",
    "    # Sort both strings\n",
    "    s1 = sorted(s1)\n",
    "    s2 = sorted(s2)\n",
    "\n",
    "    # Compare sorted strings\n",
    "    return s1 == s2\n",
    "\n",
    "if __name__ == \"__main__\":\n",
    "    s1 = \"geeks\"\n",
    "    s2 = \"kseeg\"\n",
    "    print(\"true\" if areAnagrams(s1, s2) else \"false\")\n"
   ]
  },
  {
   "cell_type": "markdown",
   "metadata": {},
   "source": [
    "# Write a code to find all occurrences of a given substring within another string"
   ]
  },
  {
   "cell_type": "code",
   "execution_count": 8,
   "metadata": {},
   "outputs": [
    {
     "name": "stdout",
     "output_type": "stream",
     "text": [
      "The original string is : GeeksforGeeks is best for Geeks\n",
      "The substring to find : Geeks\n",
      "The start indices of the substrings are : [0, 8, 26]\n"
     ]
    }
   ],
   "source": [
    "test_str = \"GeeksforGeeks is best for Geeks\"\n",
    "\n",
    "# initializing substring \n",
    "test_sub = \"Geeks\"\n",
    "\n",
    "# printing original string \n",
    "print(\"The original string is : \" + test_str) \n",
    "\n",
    "# printing substring \n",
    "print(\"The substring to find : \" + test_sub) \n",
    "\n",
    "# using list comprehension + startswith() \n",
    "# All occurrences of substring in string \n",
    "res = [i for i in range(len(test_str)) if test_str.startswith(test_sub, i)] \n",
    "\n",
    "# printing result \n",
    "print(\"The start indices of the substrings are : \" + str(res)) \n"
   ]
  },
  {
   "cell_type": "markdown",
   "metadata": {},
   "source": [
    "# Write a code to perform basic string compression using the counts of repeated character"
   ]
  },
  {
   "cell_type": "code",
   "execution_count": 9,
   "metadata": {},
   "outputs": [
    {
     "name": "stdout",
     "output_type": "stream",
     "text": [
      "ab3a6c2da3b\n"
     ]
    }
   ],
   "source": [
    "def solve(s):\n",
    "   res = \"\"\n",
    "   cnt = 1\n",
    "   for i in range(1, len(s)):\n",
    "      if s[i - 1] == s[i]:\n",
    "         cnt += 1\n",
    "      else:\n",
    "         res = res + s[i - 1]\n",
    "         if cnt > 1:\n",
    "            res += str(cnt)\n",
    "         cnt = 1\n",
    "   res = res + s[-1]\n",
    "   if cnt > 1:\n",
    "      res += str(cnt)\n",
    "   return res\n",
    "\n",
    "s = \"abbbaaaaaaccdaaab\"\n",
    "print(solve(s))"
   ]
  },
  {
   "cell_type": "markdown",
   "metadata": {},
   "source": [
    "# Write a code to determine if a string has all unique characters"
   ]
  },
  {
   "cell_type": "code",
   "execution_count": 10,
   "metadata": {},
   "outputs": [
    {
     "name": "stdout",
     "output_type": "stream",
     "text": [
      "The String  GeeksforGeeks  has duplicate characters\n"
     ]
    }
   ],
   "source": [
    "# Python program to illustrate string\n",
    "# with unique characters using \n",
    "# brute force technique\n",
    "\n",
    "def uniqueCharacters(str):\n",
    "\t\n",
    "\t# If at any time we encounter 2 \n",
    "\t# same characters, return false\n",
    "\tfor i in range(len(str)):\n",
    "\t\tfor j in range(i + 1,len(str)): \n",
    "\t\t\tif(str[i] == str[j]):\n",
    "\t\t\t\treturn False;\n",
    "\n",
    "\t# If no duplicate characters \n",
    "\t# encountered, return true\n",
    "\treturn True;\n",
    "\n",
    "\n",
    "# Driver Code\n",
    "str = \"GeeksforGeeks\";\n",
    "\n",
    "if(uniqueCharacters(str)):\n",
    "\tprint(\"The String \", str,\" has all unique characters\");\n",
    "else:\n",
    "\tprint(\"The String \", str, \" has duplicate characters\");\n",
    "\n",
    "# This code contributed by PrinciRaj1992\n"
   ]
  },
  {
   "cell_type": "markdown",
   "metadata": {},
   "source": [
    "# Write a code to convert a given string to uppercase or lowercase\n"
   ]
  },
  {
   "cell_type": "code",
   "execution_count": 11,
   "metadata": {},
   "outputs": [
    {
     "name": "stdout",
     "output_type": "stream",
     "text": [
      "gEeKsFoRgEeKs\n"
     ]
    }
   ],
   "source": [
    "# Python3 program to Convert characters \n",
    "# of a string to opposite case\n",
    "\n",
    "# Function to convert characters \n",
    "# of a string to opposite case\n",
    "def convertOpposite(str):\n",
    "\tln = len(str)\n",
    "\n",
    "\t# Conversion according to ASCII values\n",
    "\tfor i in range(ln):\n",
    "\t\tif str[i] >= 'a' and str[i] <= 'z':\n",
    "\n",
    "\t\t\t# Convert lowercase to uppercase\n",
    "\t\t\tstr[i] = chr(ord(str[i]) - 32)\n",
    "\n",
    "\t\telif str[i] >= 'A' and str[i] <= 'Z':\n",
    "\n",
    "\t\t\t# Convert lowercase to uppercase\n",
    "\t\t\tstr[i] = chr(ord(str[i]) + 32)\n",
    "\n",
    "# Driver code\n",
    "if __name__ == \"__main__\":\n",
    "\tstr = \"GeEkSfOrGeEkS\"\n",
    "\tstr = list(str)\n",
    "\n",
    "\t# Calling the Function\n",
    "\tconvertOpposite(str)\n",
    "\n",
    "\tstr = ''.join(str)\n",
    "\tprint(str)\n",
    "\n",
    "# This code is contributed by\n",
    "# sanjeev2552\n"
   ]
  },
  {
   "cell_type": "markdown",
   "metadata": {},
   "source": [
    "# Write a code to count the number of words in a string"
   ]
  },
  {
   "cell_type": "code",
   "execution_count": null,
   "metadata": {},
   "outputs": [],
   "source": [
    "# Python program to count total\n",
    "# number of words in the string\n",
    "\n",
    "\n",
    "def countWords(s):\n",
    "\n",
    "    # Check if the string is null\n",
    "    # or empty then return zero\n",
    "    if s.strip() == \"\":\n",
    "        return 0\n",
    "\n",
    "    # Splitting the string\n",
    "\n",
    "    words = s.split()\n",
    "\n",
    "    return len(words)\n",
    "\n",
    "\n",
    "if __name__ == \"__main__\":\n",
    "    s = \"abc\\\\p\\\"\"\n",
    "    print(\"No of words : \", countWords(s))\n",
    "\n",
    " \"\"\"This code is contributed by kislay__kumar\"\"\"\n"
   ]
  },
  {
   "cell_type": "markdown",
   "metadata": {},
   "source": [
    "# Write a code to concatenate two strings without using the + operator"
   ]
  },
  {
   "cell_type": "code",
   "execution_count": 12,
   "metadata": {},
   "outputs": [
    {
     "name": "stdout",
     "output_type": "stream",
     "text": [
      "Hello, world!\n"
     ]
    }
   ],
   "source": [
    "def concat_strings(str1, str2):\n",
    "  return f\"{str1}{str2}\"\n",
    "\n",
    "# Example usage\n",
    "result = concat_strings(\"Hello, \", \"world!\")\n",
    "print(result)"
   ]
  },
  {
   "cell_type": "markdown",
   "metadata": {},
   "source": [
    "# Write a code to remove all occurrences of a specific element from a list"
   ]
  },
  {
   "cell_type": "code",
   "execution_count": 16,
   "metadata": {},
   "outputs": [
    {
     "name": "stdout",
     "output_type": "stream",
     "text": [
      "The list before performing the removal operation is: \n",
      "[1, 10, 20, 10, 21, 16, 18, 10, 22, 10, 8, 10]\n",
      "The list after performing the removal operation is: \n",
      "[1, 20, 21, 16, 18, 22, 8]\n"
     ]
    }
   ],
   "source": [
    "def removing_elements(my_list, element):\n",
    "   element_count = my_list.count(element)\n",
    "   for i in range(element_count):\n",
    "      my_list.remove(element)\n",
    "   return my_list\n",
    "if __name__ == \"__main__\":\n",
    "   my_list = [1, 10, 20, 10, 21, 16, 18, 10, 22, 10, 8, 10]\n",
    "   element = 10\n",
    "   print(\"The list before performing the removal operation is: \")\n",
    "   print(my_list)\n",
    "   result = removing_elements(my_list, element)\n",
    "   print(\"The list after performing the removal operation is: \")\n",
    "   print(result)"
   ]
  },
  {
   "cell_type": "markdown",
   "metadata": {},
   "source": [
    "#  Implement a code to find the second largest number in a given list of integers"
   ]
  },
  {
   "cell_type": "code",
   "execution_count": 17,
   "metadata": {},
   "outputs": [
    {
     "name": "stdout",
     "output_type": "stream",
     "text": [
      "The second largest number is: 45\n"
     ]
    }
   ],
   "source": [
    "def find_second_largest(numbers):\n",
    "    return sorted(set(numbers))[-2]\n",
    "\n",
    "# Example usage\n",
    "numbers = [10, 20, 4, 45, 99]\n",
    "print(\"The second largest number is:\", find_second_largest(numbers))\n"
   ]
  },
  {
   "cell_type": "markdown",
   "metadata": {},
   "source": [
    " # Create a code to count the occurrences of each element in a list and return a dictionary with elements askeys and their counts as values"
   ]
  },
  {
   "cell_type": "code",
   "execution_count": 18,
   "metadata": {},
   "outputs": [
    {
     "name": "stdout",
     "output_type": "stream",
     "text": [
      " 1 :  5\n",
      " 5 :  2\n",
      " 3 :  3\n",
      " 4 :  3\n",
      " 2 :  4\n"
     ]
    }
   ],
   "source": [
    "def CountFrequency(my_list):\n",
    "\n",
    "\t# Creating an empty dictionary\n",
    "\tfreq = {}\n",
    "\tfor item in my_list:\n",
    "\t\tif (item in freq):\n",
    "\t\t\tfreq[item] += 1\n",
    "\t\telse:\n",
    "\t\t\tfreq[item] = 1\n",
    "\n",
    "\tfor key, value in freq.items():\n",
    "\t\tprint(\"% d : % d\" % (key, value))\n",
    "\n",
    "\n",
    "# Driver function\n",
    "if __name__ == \"__main__\":\n",
    "\tmy_list = [1, 1, 1, 5, 5, 3, 1, 3, 3, 1, 4, 4, 4, 2, 2, 2, 2]\n",
    "\n",
    "\tCountFrequency(my_list)\n"
   ]
  },
  {
   "cell_type": "markdown",
   "metadata": {},
   "source": [
    "# Write a code to reverse a list in-place without using any built-in reverse function"
   ]
  },
  {
   "cell_type": "code",
   "execution_count": 19,
   "metadata": {},
   "outputs": [
    {
     "name": "stdout",
     "output_type": "stream",
     "text": [
      "[5, 4, 3, 2, 1]\n"
     ]
    }
   ],
   "source": [
    "a = [1, 2, 3, 4, 5]\n",
    "\n",
    "# Use reversed() to create an iterator\n",
    "# and convert it back to a list\n",
    "rev = list(reversed(a))\n",
    "print(rev)\n"
   ]
  },
  {
   "cell_type": "code",
   "execution_count": 20,
   "metadata": {},
   "outputs": [],
   "source": [
    "# Implement a code to find and remove duplicates from a list while preserving the original order of elements"
   ]
  },
  {
   "cell_type": "code",
   "execution_count": 21,
   "metadata": {},
   "outputs": [
    {
     "name": "stdout",
     "output_type": "stream",
     "text": [
      "[1, 2, 3, 4, 5]\n"
     ]
    }
   ],
   "source": [
    "a = [1, 2, 2, 3, 4, 4, 5]\n",
    "\n",
    "# Remove duplicates by converting to a set\n",
    "a = list(set(a))\n",
    "\n",
    "print(a)\n"
   ]
  },
  {
   "cell_type": "markdown",
   "metadata": {},
   "source": [
    "# Create a code to check if a given list is sorted (either in ascending or descending order) or not"
   ]
  },
  {
   "cell_type": "code",
   "execution_count": 22,
   "metadata": {},
   "outputs": [
    {
     "name": "stdout",
     "output_type": "stream",
     "text": [
      "True\n",
      "True\n"
     ]
    }
   ],
   "source": [
    "a = [1, 2, 3, 4, 5]\n",
    "\n",
    "# For checking ascending order\n",
    "print(all(a[i] <= a[i + 1] for i in range(len(a) - 1)))\n",
    "\n",
    "b = [5, 4, 3, 2, 1]\n",
    "\n",
    "# For checking descending order\n",
    "print(all(b[i] >= b[i + 1] for i in range(len(b) - 1)))\n"
   ]
  },
  {
   "cell_type": "markdown",
   "metadata": {},
   "source": [
    "# Write a code to merge two sorted lists into a single sorted list"
   ]
  },
  {
   "cell_type": "code",
   "execution_count": 28,
   "metadata": {},
   "outputs": [
    {
     "name": "stdout",
     "output_type": "stream",
     "text": [
      "[1, 2, 3, 4, 5, 6, 7, 8]\n"
     ]
    }
   ],
   "source": [
    "def merge_sorted_lists(list1, list2):\n",
    "    return sorted(list1 + list2)\n",
    "\n",
    "# Example usage:\n",
    "list1 = [1, 3, 5, 7]\n",
    "list2 = [2, 4, 6, 8]\n",
    "\n",
    "merged_list = merge_sorted_lists(list1, list2)\n",
    "print(merged_list)  # Output: [1, 2, 3, 4, 5, 6, 7, 8]\n"
   ]
  },
  {
   "cell_type": "markdown",
   "metadata": {},
   "source": [
    " # Implement a code to find the intersection of two given lists\n",
    " "
   ]
  },
  {
   "cell_type": "code",
   "execution_count": 29,
   "metadata": {},
   "outputs": [
    {
     "name": "stdout",
     "output_type": "stream",
     "text": [
      "[9, 11, 26, 28]\n"
     ]
    }
   ],
   "source": [
    "# Python program to illustrate the intersection\n",
    "# of two lists in most simple way\n",
    "def intersection(lst1, lst2):\n",
    "    lst3 = [value for value in lst1 if value in lst2]\n",
    "    return lst3\n",
    "\n",
    "# Driver Code\n",
    "lst1 = [4, 9, 1, 17, 11, 26, 28, 54, 69]\n",
    "lst2 = [9, 9, 74, 21, 45, 11, 63, 28, 26]\n",
    "print(intersection(lst1, lst2))\n"
   ]
  },
  {
   "cell_type": "markdown",
   "metadata": {},
   "source": [
    "# Create a code to find the union of two lists without duplicates"
   ]
  },
  {
   "cell_type": "code",
   "execution_count": 30,
   "metadata": {},
   "outputs": [
    {
     "name": "stdout",
     "output_type": "stream",
     "text": [
      "[23, 15, 2, 14, 14, 16, 20, 52, 2, 48, 15, 12, 26, 32, 47, 54]\n"
     ]
    }
   ],
   "source": [
    "# Python program to illustrate union\n",
    "# Maintained repetition \n",
    "def Union(lst1, lst2):\n",
    "\tfinal_list = lst1 + lst2\n",
    "\treturn final_list\n",
    "\n",
    "# Driver Code\n",
    "lst1 = [23, 15, 2, 14, 14, 16, 20 ,52]\n",
    "lst2 = [2, 48, 15, 12, 26, 32, 47, 54]\n",
    "print(Union(lst1, lst2))\n"
   ]
  },
  {
   "cell_type": "markdown",
   "metadata": {},
   "source": [
    "# Write a code to shuffle a given list randomly without using any built-in shuffle functions"
   ]
  },
  {
   "cell_type": "code",
   "execution_count": 31,
   "metadata": {},
   "outputs": [
    {
     "name": "stdout",
     "output_type": "stream",
     "text": [
      "Original list: [1, 2, 3, 4, 5]\n",
      "Shuffled list: [2, 4, 5, 1, 3]\n"
     ]
    }
   ],
   "source": [
    "import random\n",
    "\n",
    "def shuffle_list(input_list):\n",
    "    n = len(input_list)\n",
    "    for i in range(n - 1, 0, -1):\n",
    "        j = random.randint(0, i)\n",
    "        input_list[i], input_list[j] = input_list[j], input_list[i]\n",
    "    return input_list\n",
    "\n",
    "# Example usage:\n",
    "my_list = [1, 2, 3, 4, 5]\n",
    "print(\"Original list:\", my_list)\n",
    "shuffled_list = shuffle_list(my_list)\n",
    "print(\"Shuffled list:\", shuffled_list)\n"
   ]
  },
  {
   "cell_type": "markdown",
   "metadata": {},
   "source": [
    "# Write a code that takes two tuples as input and returns a new tuple containing elements that are\n",
    "common to both input tuples"
   ]
  },
  {
   "cell_type": "code",
   "execution_count": 32,
   "metadata": {},
   "outputs": [
    {
     "name": "stdout",
     "output_type": "stream",
     "text": [
      "(3, 4)\n"
     ]
    }
   ],
   "source": [
    "def common_elements(tuple1, tuple2):\n",
    "    return tuple(set(tuple1) & set(tuple2))\n",
    "\n",
    "# Example usage:\n",
    "tuple1 = (1, 2, 3, 4)\n",
    "tuple2 = (3, 4, 5, 6)\n",
    "print(common_elements(tuple1, tuple2))  # Output: (3, 4)\n"
   ]
  },
  {
   "cell_type": "markdown",
   "metadata": {},
   "source": [
    "# Create a code that prompts the user to enter two sets of integers separated by commas. Then, print the intersection of these two sets"
   ]
  },
  {
   "cell_type": "code",
   "execution_count": null,
   "metadata": {},
   "outputs": [],
   "source": [
    "def get_set(prompt):\n",
    "    \"\"\"Get a set of integers from user input\"\"\"\n",
    "    return set(map(int, input(prompt).split(',')))\n",
    "\n",
    "def main():\n",
    "    set1 = get_set(\"Enter first set of integers (e.g., 1,2,3): \")\n",
    "    set2 = get_set(\"Enter second set of integers (e.g., 2,3,4): \")\n",
    "    \n",
    "    intersection = set1.intersection(set2)\n",
    "    print(\"Intersection:\", intersection)\n",
    "\n",
    "if __name__ == \"__main__\":\n",
    "    main()\n"
   ]
  },
  {
   "cell_type": "markdown",
   "metadata": {},
   "source": [
    "# Write a code to concatenate two tuples. The function should take two tuples as input and return a new tuple containing elements from both input tuples."
   ]
  },
  {
   "cell_type": "code",
   "execution_count": null,
   "metadata": {},
   "outputs": [],
   "source": [
    "def concat_tuples(tuple1, tuple2):\n",
    "    \"\"\"\n",
    "    Concatenates two tuples into a new tuple.\n",
    "\n",
    "    Args:\n",
    "        tuple1 (tuple): The first tuple to concatenate.\n",
    "        tuple2 (tuple): The second tuple to concatenate.\n",
    "\n",
    "    Returns:\n",
    "        tuple: A new tuple containing elements from both input tuples.\n",
    "    \"\"\"\n",
    "    return tuple1 + tuple2\n"
   ]
  }
 ],
 "metadata": {
  "kernelspec": {
   "display_name": "Python 3",
   "language": "python",
   "name": "python3"
  },
  "language_info": {
   "codemirror_mode": {
    "name": "ipython",
    "version": 3
   },
   "file_extension": ".py",
   "mimetype": "text/x-python",
   "name": "python",
   "nbconvert_exporter": "python",
   "pygments_lexer": "ipython3",
   "version": "3.12.4"
  }
 },
 "nbformat": 4,
 "nbformat_minor": 2
}
