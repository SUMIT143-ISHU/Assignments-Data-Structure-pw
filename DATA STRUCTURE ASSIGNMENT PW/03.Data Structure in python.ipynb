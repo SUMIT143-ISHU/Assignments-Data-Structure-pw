{
 "cells": [
  {
   "cell_type": "markdown",
   "metadata": {},
   "source": [
    "Create a code that defines two sets of integers. Then, print the union, intersection, and difference of these\n",
    "two sets&"
   ]
  },
  {
   "cell_type": "code",
   "execution_count": 1,
   "metadata": {},
   "outputs": [
    {
     "name": "stdout",
     "output_type": "stream",
     "text": [
      "Set A: {1, 2, 3, 4, 5}\n",
      "Set B: {4, 5, 6, 7, 8}\n",
      "Union of Set A and Set B: {1, 2, 3, 4, 5, 6, 7, 8}\n",
      "Intersection of Set A and Set B: {4, 5}\n",
      "Difference of Set A and Set B (A - B): {1, 2, 3}\n"
     ]
    }
   ],
   "source": [
    "# Define two sets of integers\n",
    "set_a = {1, 2, 3, 4, 5}\n",
    "set_b = {4, 5, 6, 7, 8}\n",
    "\n",
    "# Calculate union, intersection, and difference\n",
    "union_set = set_a | set_b\n",
    "intersection_set = set_a & set_b\n",
    "difference_set = set_a - set_b\n",
    "\n",
    "# Print the results\n",
    "print(\"Set A:\", set_a)\n",
    "print(\"Set B:\", set_b)\n",
    "print(\"Union of Set A and Set B:\", union_set)\n",
    "print(\"Intersection of Set A and Set B:\", intersection_set)\n",
    "print(\"Difference of Set A and Set B (A - B):\", difference_set)\n"
   ]
  },
  {
   "cell_type": "markdown",
   "metadata": {},
   "source": [
    "Write a code that takes a tuple and an element as input. The function should return the count of\n",
    "occurrences of the given element in the tuple"
   ]
  },
  {
   "cell_type": "code",
   "execution_count": 2,
   "metadata": {},
   "outputs": [
    {
     "name": "stdout",
     "output_type": "stream",
     "text": [
      "The element 1 occurs 3 times in the tuple.\n"
     ]
    }
   ],
   "source": [
    "def count_occurrences(input_tuple, element):\n",
    "    return input_tuple.count(element)\n",
    "\n",
    "# Example usage:\n",
    "my_tuple = (1, 2, 3, 1, 4, 1, 5)\n",
    "element_to_count = 1\n",
    "occurrences = count_occurrences(my_tuple, element_to_count)\n",
    "print(f'The element {element_to_count} occurs {occurrences} times in the tuple.')\n"
   ]
  },
  {
   "cell_type": "markdown",
   "metadata": {},
   "source": [
    " Develop a code that prompts the user to input two sets of strings. Then, print the symmetric difference of\n",
    "these two sets&"
   ]
  },
  {
   "cell_type": "code",
   "execution_count": null,
   "metadata": {},
   "outputs": [],
   "source": [
    "# Function to get a set of strings from user input\n",
    "def get_set_from_input(prompt):\n",
    "    user_input = input(prompt)\n",
    "    # Split the input by commas and strip whitespace, then convert to a set\n",
    "    string_set = set(item.strip() for item in user_input.split(','))\n",
    "    return string_set\n",
    "\n",
    "# Prompt the user to input the two sets\n",
    "set1 = get_set_from_input(\"Enter the first set of strings (comma-separated): \")\n",
    "set2 = get_set_from_input(\"Enter the second set of strings (comma-separated): \")\n",
    "\n",
    "# Calculate the symmetric difference\n",
    "symmetric_difference = set1 ^ set2\n",
    "\n",
    "# Print the result\n",
    "print(\"Symmetric Difference:\", symmetric_difference)\n"
   ]
  },
  {
   "cell_type": "markdown",
   "metadata": {},
   "source": [
    "Write a code that takes a list of words as input and returns a dictionary where the keys are unique words\n",
    "and the values are the frequencies of those words in the input list&"
   ]
  },
  {
   "cell_type": "code",
   "execution_count": null,
   "metadata": {},
   "outputs": [
    {
     "name": "stdout",
     "output_type": "stream",
     "text": [
      "Word Frequencies: {}\n"
     ]
    }
   ],
   "source": [
    "def word_frequencies(word_list):\n",
    "    frequency_dict = {}\n",
    "    for word in word_list:\n",
    "        # If the word is already in the dictionary, increment its count\n",
    "        if word in frequency_dict:\n",
    "            frequency_dict[word] += 1\n",
    "        else:\n",
    "            # Otherwise, add the word with a count of 1\n",
    "            frequency_dict[word] = 1\n",
    "    return frequency_dict\n",
    "\n",
    "# Take input from the user\n",
    "user_input = input(\"Enter a list of words (space-separated): \")\n",
    "word_list = user_input.split()\n",
    "\n",
    "# Get the frequency dictionary\n",
    "frequencies = word_frequencies(word_list)\n",
    "\n",
    "# Print the result\n",
    "print(\"Word Frequencies:\", frequencies)\n"
   ]
  },
  {
   "cell_type": "markdown",
   "metadata": {},
   "source": [
    "Write a code that takes two dictionaries as input and merges them into a single dictionary. If there are\n",
    "common keys, the values should be added together&"
   ]
  },
  {
   "cell_type": "code",
   "execution_count": null,
   "metadata": {},
   "outputs": [
    {
     "name": "stdout",
     "output_type": "stream",
     "text": [
      "{'Geeks': 100, 'geek': 200, 'for': 325}\n"
     ]
    }
   ],
   "source": [
    "# Python program to combine two dictionary\n",
    "# adding values for common keys\n",
    "# initializing two dictionaries\n",
    "dict1 = {'a': 12, 'for': 25, 'c': 9}\n",
    "dict2 = {'Geeks': 100, 'geek': 200, 'for': 300}\n",
    "\n",
    "\n",
    "# adding the values with common key\n",
    "for key in dict2:\n",
    "\tif key in dict1:\n",
    "\t\tdict2[key] = dict2[key] + dict1[key]\n",
    "\telse:\n",
    "\t\tpass\n",
    "\t\t\n",
    "print(dict2)\n"
   ]
  },
  {
   "cell_type": "markdown",
   "metadata": {},
   "source": [
    "Write a code to access a value in a nested dictionary. The function should take the dictionary and a list of\n",
    "keys as input, and return the corresponding value. If any of the keys do not exist in the dictionary, the\n",
    "function should return None&"
   ]
  },
  {
   "cell_type": "code",
   "execution_count": null,
   "metadata": {},
   "outputs": [],
   "source": [
    "def access_nested_value(nested_dict, keys):\n",
    "    # Initialize a variable to hold the current level of the dictionary\n",
    "    current_level = nested_dict\n",
    "    \n",
    "    # Loop through each key in the list\n",
    "    for key in keys:\n",
    "        # Check if the current key exists in the current level of the dictionary\n",
    "        if key in current_level:\n",
    "            # Move down to the next level of the dictionary\n",
    "            current_level = current_level[key]\n",
    "        else:\n",
    "            # Return None if the key does not exist\n",
    "            return None\n",
    "            \n",
    "    # Return the value found at the end\n"
   ]
  },
  {
   "cell_type": "markdown",
   "metadata": {},
   "source": [
    "Write a code that takes a dictionary as input and returns a sorted version of it based on the values. You\n",
    "can choose whether to sort in ascending or descending order&"
   ]
  },
  {
   "cell_type": "code",
   "execution_count": null,
   "metadata": {},
   "outputs": [],
   "source": [
    "def sort_dict_by_value(my_dict, ascending=True):\n",
    "    \"\"\"\n",
    "    Sorts a dictionary by its values in either ascending or descending order.\n",
    "\n",
    "    Args:\n",
    "        my_dict (dict): The dictionary to be sorted.\n",
    "        ascending (bool, optional): True for ascending order, False for descending. Defaults to True.\n",
    "\n",
    "    Returns:\n",
    "        dict: A new dictionary with sorted key-value pairs based on values.\n",
    "    \"\"\"\n",
    "    sorted_items = sorted(my_dict.items(), key=lambda item: item[1], reverse=not ascending)\n",
    "    return dict(sorted_items)"
   ]
  },
  {
   "cell_type": "markdown",
   "metadata": {},
   "source": [
    "& Write a code that inverts a dictionary, swapping keys and values. Ensure that the inverted dictionary\n",
    "correctly handles cases where multiple keys have the same value by storing the keys as a list in the\n",
    "inverted dictionary"
   ]
  },
  {
   "cell_type": "code",
   "execution_count": 2,
   "metadata": {},
   "outputs": [],
   "source": [
    "def invert_dictionary(original_dict):\n",
    "    inverted_dict = {}\n",
    "    \n",
    "    for key, value in original_dict.items():\n",
    "        # Check if the value is already a key in the inverted dictionary\n",
    "        if value in inverted_dict:\n",
    "            # If so, append the current key to the list of keys for that value\n",
    "            inverted_dict[value].append(key)\n",
    "        else:\n",
    "            # Otherwise, create a new entry with the value as the key and the current key as the first entry in a list\n",
    "            inverted_dict[value] = [key]\n"
   ]
  }
 ],
 "metadata": {
  "kernelspec": {
   "display_name": "Python 3",
   "language": "python",
   "name": "python3"
  },
  "language_info": {
   "codemirror_mode": {
    "name": "ipython",
    "version": 3
   },
   "file_extension": ".py",
   "mimetype": "text/x-python",
   "name": "python",
   "nbconvert_exporter": "python",
   "pygments_lexer": "ipython3",
   "version": "3.12.4"
  }
 },
 "nbformat": 4,
 "nbformat_minor": 2
}
